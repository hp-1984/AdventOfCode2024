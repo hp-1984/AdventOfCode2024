{
 "cells":[
  {
   "cell_type":"markdown",
   "source":[
    "# Part One **OK**"
   ],
   "attachments":{},
   "metadata":{
    "datalore":{
     "node_id":"Oa7EkaYA03g5fFrDL34KCw",
     "type":"MD",
     "hide_input_from_viewers":true,
     "hide_output_from_viewers":true
    }
   }
  },
  {
   "cell_type":"code",
   "source":[
    "import re\n",
    "FILE_NAME = \"day_07_input11.txt\"\n",
    "\n",
    "def load_data(file_name):\n",
    "    file= open(file_name, \"r\")\n",
    "    data = []\n",
    "    while True:\n",
    "        l = file.readline()\n",
    "        if not l:  \n",
    "            break\n",
    "        pattern = r'\\d+'\n",
    "        line =  re.findall(pattern, l)\n",
    "        d = list(map(int, line))\n",
    "        data.append(d)\n",
    "    return data\n",
    "\n",
    "def count(expected_result, values, c=0):\n",
    "    if len(values) == 0 or expected_result < c:\n",
    "        if expected_result == c:\n",
    "            return  expected_result\n",
    "        else:\n",
    "            return False\n",
    "    else: \n",
    "        n = values[0]   \n",
    "        cc = count(expected_result, values[1:], c + n)\n",
    "        if cc:\n",
    "            return cc\n",
    "        return count(expected_result, values[1:], c * n)\n",
    "    \n",
    "def process(data):\n",
    "    answer = 0\n",
    "    for values in data: \n",
    "        answer += count(values[0], values[1:])\n",
    "        \n",
    "    return answer\n",
    "\n",
    "data = load_data(FILE_NAME)\n",
    "print(process(data))"
   ],
   "execution_count":1,
   "outputs":[
    {
     "name":"stdout",
     "text":[
      "2941973819040\n"
     ],
     "output_type":"stream"
    }
   ],
   "metadata":{
    "datalore":{
     "node_id":"PswesyDu0LkAz1UqM7u0IK",
     "type":"CODE",
     "hide_input_from_viewers":true,
     "hide_output_from_viewers":true
    }
   }
  },
  {
   "cell_type":"markdown",
   "source":[
    "# Part Two **OK**"
   ],
   "attachments":{},
   "metadata":{
    "datalore":{
     "node_id":"j5jgmTfX6MDoRbsgX0IvR6",
     "type":"MD",
     "hide_input_from_viewers":true,
     "hide_output_from_viewers":true
    }
   }
  },
  {
   "cell_type":"code",
   "source":[
    "import re\n",
    "FILE_NAME = \"day_07_input11.txt\"\n",
    "\n",
    "def load_data(file_name):\n",
    "    file= open(file_name, \"r\")\n",
    "    data = []\n",
    "    while True:\n",
    "        l = file.readline()\n",
    "        if not l:  \n",
    "            break\n",
    "        pattern = r'\\d+'\n",
    "        line =  re.findall(pattern, l)\n",
    "        d = list(map(int, line))\n",
    "        data.append(d)\n",
    "    return data\n",
    "\n",
    "def count(expected_result, values, c=0):\n",
    "    if len(values) == 0 or expected_result < c:\n",
    "        if expected_result == c:\n",
    "            return  expected_result\n",
    "        else:\n",
    "            return False\n",
    "    else: \n",
    "        n = values[0]   \n",
    "        cc = count(expected_result, values[1:], c + n)\n",
    "        if cc:\n",
    "            return cc\n",
    "        cc =  count(expected_result, values[1:], c * n)\n",
    "        if cc:\n",
    "            return cc\n",
    "        concat = str(c) + str(n)\n",
    "        cc =  count(expected_result, values[1:], int(concat))\n",
    "    return cc\n",
    "    \n",
    "def process(data):\n",
    "    answer = 0\n",
    "    for values in data: \n",
    "        answer += count(values[0], values[1:])\n",
    "        \n",
    "    return answer\n",
    "\n",
    "data = load_data(FILE_NAME)\n",
    "print(process(data))"
   ],
   "execution_count":3,
   "outputs":[
    {
     "name":"stdout",
     "text":[
      "249943041417600\n"
     ],
     "output_type":"stream"
    }
   ],
   "metadata":{
    "datalore":{
     "node_id":"Ktr2bY6UxlwbKF3Gpk9pB0",
     "type":"CODE",
     "hide_input_from_viewers":true,
     "hide_output_from_viewers":true
    }
   }
  }
 ],
 "metadata":{
  "kernelspec":{
   "display_name":"Python",
   "language":"python",
   "name":"python"
  },
  "datalore":{
   "computation_mode":"JUPYTER",
   "package_manager":"pip",
   "base_environment":"default",
   "packages":[],
   "report_row_ids":[],
   "version":3
  }
 },
 "nbformat":4,
 "nbformat_minor":4
}
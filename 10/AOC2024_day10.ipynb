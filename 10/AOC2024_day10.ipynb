{
 "cells":[
  {
   "cell_type":"markdown",
   "source":[
    "# Part One **OK**"
   ],
   "attachments":{},
   "metadata":{
    "datalore":{
     "node_id":"03JW7p9b7tZcVx4fizLuCe",
     "type":"MD",
     "hide_input_from_viewers":true,
     "hide_output_from_viewers":true
    }
   }
  },
  {
   "cell_type":"code",
   "source":[
    "import numpy as np\n",
    "\n",
    "FILE_NAME = \"day_10_input11.txt\"\n",
    "\n",
    "def load_data(file_name):\n",
    "    file= open(file_name, \"r\")\n",
    "    data = [[int(l) for l in line] for line in file.read().splitlines()]\n",
    "    data = np.array(data)    \n",
    "    return data\n",
    "\n",
    "def find_trailheads(start, s, data):\n",
    "    ends = set()\n",
    "    y, x = start\n",
    "    if s + 1 > 9:\n",
    "        return {(y, x)}   \n",
    "    if y-1 >= 0 and data[y-1][x] == s+1:\n",
    "        ends.update(find_trailheads((y-1, x), s+1, data))\n",
    "    if y+1 < data.shape[0] and data[y+1][x] == s+1:\n",
    "        ends.update(find_trailheads((y+1, x), s+1, data))\n",
    "    if x-1 >= 0 and data[y][x-1] == s+1:\n",
    "        ends.update(find_trailheads((y, x-1), s+1, data))\n",
    "    if x+1 < data.shape[1] and data[y][x+1] == s+1:\n",
    "        ends.update(find_trailheads((y, x+1), s+1, data))\n",
    "    return ends\n",
    "    \n",
    "def process(data):\n",
    "    answer=0\n",
    "    s = 0\n",
    "    starts=np.where(data == s)\n",
    "    starts = list(zip(starts[0], starts[1]))\n",
    "    for start in starts:\n",
    "        answer += len(find_trailheads(start, s, data))\n",
    "    return answer\n",
    "\n",
    "data = load_data(FILE_NAME)\n",
    "print(process(data))"
   ],
   "execution_count":5,
   "outputs":[
    {
     "name":"stdout",
     "text":[
      "709\n"
     ],
     "output_type":"stream"
    }
   ],
   "metadata":{
    "datalore":{
     "node_id":"HoYcs1aBCkMPx717MmYJME",
     "type":"CODE",
     "hide_input_from_viewers":true,
     "hide_output_from_viewers":true
    }
   }
  },
  {
   "cell_type":"markdown",
   "source":[
    "# Part Two **OK**"
   ],
   "attachments":{},
   "metadata":{
    "datalore":{
     "node_id":"7VIoeeDZkyQb1Cltx6pyOV",
     "type":"MD",
     "hide_input_from_viewers":true,
     "hide_output_from_viewers":true
    }
   }
  },
  {
   "cell_type":"code",
   "source":[
    "import numpy as np\n",
    "\n",
    "FILE_NAME = \"day_10_input11.txt\"\n",
    "\n",
    "def load_data(file_name):\n",
    "    file= open(file_name, \"r\")\n",
    "    data = [[int(l) for l in line] for line in file.read().splitlines()]\n",
    "    data = np.array(data)    \n",
    "    return data\n",
    "\n",
    "def find_trailheads(start, s, data):\n",
    "    ends = []\n",
    "    y, x = start\n",
    "    if s + 1 > 9:\n",
    "        ends.append((y, x))\n",
    "        return ends\n",
    "    if y-1 >= 0 and data[y-1][x] == s+1:\n",
    "        ends += (find_trailheads((y-1, x), s+1, data))\n",
    "    if y+1 < data.shape[0] and data[y+1][x] == s+1:\n",
    "        ends += (find_trailheads((y+1, x), s+1, data))\n",
    "    if x-1 >= 0 and data[y][x-1] == s+1:\n",
    "        ends += find_trailheads((y, x-1), s+1, data)\n",
    "    if x+1 < data.shape[1] and data[y][x+1] == s+1:\n",
    "        ends += find_trailheads((y, x+1), s+1, data)\n",
    "    return ends\n",
    "    \n",
    "def process(data):\n",
    "    answer=0\n",
    "    s = 0\n",
    "    starts=np.where(data == s)\n",
    "    starts = list(zip(starts[0], starts[1]))\n",
    "    for start in starts:\n",
    "        answer += len(find_trailheads(start, s, data))\n",
    "    return answer\n",
    "\n",
    "data = load_data(FILE_NAME)\n",
    "print(process(data))"
   ],
   "execution_count":6,
   "outputs":[
    {
     "name":"stdout",
     "text":[
      "1326\n"
     ],
     "output_type":"stream"
    }
   ],
   "metadata":{
    "datalore":{
     "node_id":"LfSjV3Gw4pHpEQlmrNGDc8",
     "type":"CODE",
     "hide_input_from_viewers":true,
     "hide_output_from_viewers":true
    }
   }
  }
 ],
 "metadata":{
  "kernelspec":{
   "display_name":"Python",
   "language":"python",
   "name":"python"
  },
  "datalore":{
   "computation_mode":"JUPYTER",
   "package_manager":"pip",
   "base_environment":"default",
   "packages":[],
   "report_row_ids":[],
   "version":3
  }
 },
 "nbformat":4,
 "nbformat_minor":4
}
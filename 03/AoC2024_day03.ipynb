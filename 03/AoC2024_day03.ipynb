{
 "cells":[
  {
   "cell_type":"markdown",
   "source":[
    "# Part One **OK**"
   ],
   "attachments":{},
   "metadata":{
    "datalore":{
     "node_id":"h2dVy8pLXtgj4aa4xWWx6S",
     "type":"MD",
     "hide_input_from_viewers":true,
     "hide_output_from_viewers":true
    }
   }
  },
  {
   "cell_type":"code",
   "source":[
    "import re\n",
    "FILE_NAME = \"day_03_input11.txt\"\n",
    "\n",
    "def load_data(file_name):\n",
    "        file= open(file_name, \"r\")\n",
    "        text = file.read()\n",
    "        return str(text)\n",
    "\n",
    "def process_line(text):\n",
    "    reg = r\"(?<=mul\\()[0-9]*[,].[0-9]*(?=\\))\"\n",
    "    ttt = re.findall(reg, text)\n",
    "    data = []\n",
    "    for i in ttt:\n",
    "        data.append(re.findall(r'[0-9]+', i))\n",
    "    return data\n",
    "\n",
    "def process(text):\n",
    "    answer = 0\n",
    "    data = process_line(text)\n",
    "    for i in data:\n",
    "        answer += int(i[0])*int(i[1])\n",
    "\n",
    "    return answer\n",
    "\n",
    "text = load_data(FILE_NAME)\n",
    "print(process(text))"
   ],
   "execution_count":84,
   "outputs":[
    {
     "name":"stdout",
     "text":[
      "190604937\n"
     ],
     "output_type":"stream"
    }
   ],
   "metadata":{
    "datalore":{
     "node_id":"wZoBeLK29YcVp3IcmPurzO",
     "type":"CODE",
     "hide_input_from_viewers":true,
     "hide_output_from_viewers":true
    }
   }
  },
  {
   "cell_type":"markdown",
   "source":[
    "# Part Two **OK**\n",
    "finished: 10:38  \n",
    ":TODO elegánsabb lehetett volna for ciklus helyett regexel "
   ],
   "attachments":{},
   "metadata":{
    "datalore":{
     "node_id":"swSvq3gf1bdWRGnRNJeC1l",
     "type":"MD",
     "hide_input_from_viewers":true,
     "hide_output_from_viewers":true
    }
   }
  },
  {
   "cell_type":"code",
   "source":[
    "import re\n",
    "FILE_NAME = \"day_03_input11.txt\"\n",
    "\n",
    "def load_data(file_name):\n",
    "        file= open(file_name, \"r\")\n",
    "        text = file.read()\n",
    "        return str(text)\n",
    "\n",
    "def process_line(text):\n",
    "    reg = r\"((?<=mul\\()[0-9]*[,].[0-9]*(?=\\))|don't\\(\\)|do\\(\\))\"\n",
    "    ttt = re.findall(reg, text)\n",
    "\n",
    "    data = []\n",
    "    #TODO rewrite to regex!!!\n",
    "    for i in ttt:\n",
    "        if re.match(r\"don't\\(\\)\", i):\n",
    "            data.append(\"stop\")\n",
    "        elif re.match(r\"do\\(\\)\", i):\n",
    "            data.append(\"start\")\n",
    "        else:\n",
    "            data.append(re.findall(r'[0-9]+', i))\n",
    "    return data\n",
    "\n",
    "def process(text):\n",
    "    answer = 0\n",
    "    count = \"start\"\n",
    "    data = process_line(text)\n",
    "    for i in data:\n",
    "        \n",
    "        if i == \"start\":\n",
    "            count = \"start\"\n",
    "        elif i == \"stop\":\n",
    "            count = \"stop\"\n",
    "        if count == \"start\" and isinstance(i, list):\n",
    "            answer += int(i[0])*int(i[1])\n",
    "        \n",
    "    return answer\n",
    "\n",
    "text = load_data(FILE_NAME)\n",
    "print(process(text))"
   ],
   "execution_count":83,
   "outputs":[
    {
     "name":"stdout",
     "text":[
      "82857512\n"
     ],
     "output_type":"stream"
    }
   ],
   "metadata":{
    "datalore":{
     "node_id":"XQfqlwX0N08yHOhreYQsks",
     "type":"CODE",
     "hide_input_from_viewers":true,
     "hide_output_from_viewers":true
    }
   }
  }
 ],
 "metadata":{
  "kernelspec":{
   "display_name":"Python",
   "language":"python",
   "name":"python"
  },
  "datalore":{
   "computation_mode":"JUPYTER",
   "package_manager":"pip",
   "base_environment":"default",
   "packages":[],
   "report_row_ids":[],
   "version":3
  }
 },
 "nbformat":4,
 "nbformat_minor":4
}
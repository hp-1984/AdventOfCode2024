{
 "cells":[
  {
   "cell_type":"markdown",
   "source":[
    "# Part One **OK**\n",
    "\n",
    "too many if commands"
   ],
   "attachments":{},
   "metadata":{
    "datalore":{
     "node_id":"rQLMZ29KqreKLGzQNfxCIE",
     "type":"MD",
     "hide_input_from_viewers":true,
     "hide_output_from_viewers":true
    }
   }
  },
  {
   "cell_type":"code",
   "source":[
    "import re\n",
    "import math\n",
    "\n",
    "FILE_NAME = \"day_05_input11.txt\"\n",
    "\n",
    "def load_data(file_name):\n",
    "        file= open(file_name, \"r\")\n",
    "        lines = file.read().splitlines()      \n",
    "        return lines\n",
    "\n",
    "def process_line(lines):\n",
    "    instructions = {}\n",
    "    pages = []\n",
    "\n",
    "    for line in lines:\n",
    "        reg = r\"(\\d{2})\\|(\\d{2})\"\n",
    "        inst = re.findall(reg, line)\n",
    "        if len(inst) != 0:\n",
    "            num, before = inst[0]\n",
    "            if num in instructions:\n",
    "                instructions[num].append(before)\n",
    "            else:\n",
    "                instructions[num] = [before]\n",
    "        reg = r\"(?<=,)\\d+|\\d+(?=,)\"\n",
    "        inst = re.findall(reg, line)\n",
    "        if len(inst) != 0:\n",
    "            pages.append(inst)\n",
    "        \n",
    "    return instructions, pages\n",
    "\n",
    "def count(instructions,pages):\n",
    "    ret = 0\n",
    "    for i in pages:\n",
    "        for n, num in enumerate(i):\n",
    "            if num != i[-1] and num in instructions:\n",
    "                if i[n+1] in instructions[num]:\n",
    "                    if i[n+1] == i[-1]:\n",
    "                        ret += int(i[math.floor(len(i)\/2)])\n",
    "                else:\n",
    "                    break \n",
    "            #??????why not\n",
    "    return ret\n",
    "\n",
    "def process(lines):\n",
    "    answer = 0\n",
    "    instructions, pages =process_line(lines)\n",
    "    answer += count(instructions,pages)\n",
    "    \n",
    "    return answer\n",
    "\n",
    "lines = load_data(FILE_NAME)\n",
    "print(process(lines))"
   ],
   "execution_count":2,
   "outputs":[
    {
     "name":"stdout",
     "text":[
      "6267\n"
     ],
     "output_type":"stream"
    }
   ],
   "metadata":{
    "datalore":{
     "node_id":"2sgVpnrvACuGliV5nIoizc",
     "type":"CODE",
     "hide_input_from_viewers":true,
     "hide_output_from_viewers":true
    }
   }
  },
  {
   "cell_type":"markdown",
   "source":[
    "# Part Two **OK**\n",
    "It would have been better with a plain **stack**"
   ],
   "attachments":{},
   "metadata":{
    "datalore":{
     "node_id":"lraXLCRxrzjH0h0ghwaL4p",
     "type":"MD",
     "hide_input_from_viewers":true,
     "hide_output_from_viewers":true
    }
   }
  },
  {
   "cell_type":"code",
   "source":[
    "import re\n",
    "import math\n",
    "\n",
    "FILE_NAME = \"day_05_input11.txt\"\n",
    "\n",
    "def load_data(file_name):\n",
    "        file= open(file_name, \"r\")\n",
    "        lines = file.read().splitlines()      \n",
    "        return lines\n",
    "\n",
    "def process_line(lines):\n",
    "    instructions = {}\n",
    "    pages = []\n",
    "\n",
    "    for line in lines:\n",
    "        reg = r\"(\\d{2})\\|(\\d{2})\"\n",
    "        inst = re.findall(reg, line)\n",
    "        if len(inst) != 0:\n",
    "            num, before = inst[0]\n",
    "            if num in instructions:\n",
    "                instructions[num].append(before)\n",
    "            else:\n",
    "                instructions[num] = [before]\n",
    "        reg = r\"(?<=,)\\d+|\\d+(?=,)\"\n",
    "        inst = re.findall(reg, line)\n",
    "        if len(inst) != 0:\n",
    "            pages.append(inst)\n",
    "        \n",
    "    return instructions, pages\n",
    "\n",
    "def reorder(instructions,pages):\n",
    "    stack = []\n",
    "    while len(pages) != 1:\n",
    "        page = pages.pop(0)\n",
    "        if page not in instructions:\n",
    "            #add to the end\n",
    "            pages.append(page)\n",
    "        else: \n",
    "            # is elemet before? \n",
    "            if all(element in instructions[page] for element in pages):   \n",
    "                stack.append(page)\n",
    "            else:\n",
    "                pages.append(page)\n",
    "    # append last element\n",
    "    stack.append(pages[0])\n",
    "\n",
    "    return int(stack[math.floor(len(stack)\/2)])\n",
    "\n",
    "def count(instructions,pages):\n",
    "    ret = 0\n",
    "    bad_rows = []\n",
    "    for i in pages:\n",
    "        for n, num in enumerate(i):\n",
    "            if num != i[-1]:\n",
    "                if num in instructions:\n",
    "                    if i[n+1] in instructions[num]:\n",
    "                        if i[n+1] == i[-1]:\n",
    "                            ret += int(i[math.floor(len(i)\/2)])\n",
    "                    else:\n",
    "                        bad_rows.append(i)\n",
    "                        break\n",
    "                else:\n",
    "                    bad_rows.append(i)\n",
    "                    break\n",
    "    ret = 0\n",
    "    for p in bad_rows:\n",
    "        ret += reorder(instructions, p)\n",
    "                   \n",
    "    return ret\n",
    "\n",
    "def process(lines):\n",
    "    answer = 0\n",
    "    instructions, pages =process_line(lines)\n",
    "    \n",
    "    answer = count(instructions,pages)\n",
    "\n",
    "    return answer\n",
    "\n",
    "lines = load_data(FILE_NAME)\n",
    "print(process(lines))"
   ],
   "execution_count":27,
   "outputs":[
    {
     "name":"stdout",
     "text":[
      "5184\n"
     ],
     "output_type":"stream"
    }
   ],
   "metadata":{
    "datalore":{
     "node_id":"G7JR2XH6FKXk5tTMrnLEdd",
     "type":"CODE",
     "hide_input_from_viewers":true,
     "hide_output_from_viewers":true
    }
   }
  },
  {
   "cell_type":"markdown",
   "source":[
    "You should put it back, not just take it out."
   ],
   "attachments":{},
   "metadata":{
    "datalore":{
     "node_id":"sO1TdrBEJ0Y1RJJSjogIVp",
     "type":"MD",
     "hide_input_from_viewers":true,
     "hide_output_from_viewers":true
    }
   }
  },
  {
   "cell_type":"code",
   "source":[
    "def count2(instructions,pages):\n",
    "    print(pages)\n",
    "    ret = 0\n",
    "    bad_rows = []\n",
    "    for n, page in enumerate(pages):\n",
    "        while True:\n",
    "            p = page.pop(0)\n",
    "            if p not in instructions:\n",
    "                #add to the bad pages list\n",
    "                bad_rows.append(pages[n])\n",
    "                break\n",
    "            else: \n",
    "                if all(element in instructions[p] for element in page):   \n",
    "                    pass\n",
    "                else:\n",
    "                    bad_rows.append(pages[n])\n",
    "                    break\n",
    "            if len(page) == 1:\n",
    "                print(page)\n",
    "                print(pages[n])\n",
    "                ret += int(pages[n][math.floor(len(pages[n])\/2)])\n",
    "                break\n",
    "\n",
    "\n",
    "    ret2 = 0\n",
    "    for p in bad_rows:\n",
    "        ret2 += reorder(instructions, p)\n",
    "                   \n",
    "    return [ret,ret2]"
   ],
   "execution_count":null,
   "outputs":[],
   "metadata":{
    "datalore":{
     "node_id":"Ku1EphS3EG5PahslzkmMe1",
     "type":"CODE",
     "hide_input_from_viewers":true,
     "hide_output_from_viewers":true
    }
   }
  }
 ],
 "metadata":{
  "kernelspec":{
   "display_name":"Python",
   "language":"python",
   "name":"python"
  },
  "datalore":{
   "computation_mode":"JUPYTER",
   "package_manager":"pip",
   "base_environment":"default",
   "packages":[],
   "report_row_ids":[],
   "version":3
  }
 },
 "nbformat":4,
 "nbformat_minor":4
}
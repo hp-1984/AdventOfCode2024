{
 "cells":[
  {
   "cell_type":"markdown",
   "source":[
    "# Part One **OK**"
   ],
   "attachments":{},
   "metadata":{
    "datalore":{
     "node_id":"qOpnjeedPUtyTtBnXI6SlY",
     "type":"MD",
     "hide_input_from_viewers":true,
     "hide_output_from_viewers":true
    }
   }
  },
  {
   "cell_type":"code",
   "source":[
    "import re\n",
    "import numpy as np\n",
    "\n",
    "FILE_NAME = \"day_08_input11.txt\"\n",
    "\n",
    "def load_data(file_name):\n",
    "    file= open(file_name, \"r\")\n",
    "    data = [[l for l in line] for line in file.read().splitlines()]\n",
    "    npdata = np.array(data, dtype='<U5')\n",
    "    return npdata\n",
    "\n",
    "def test_antinodes(i, j):\n",
    "    if i >= 0 and j >= 0 and data.shape[0] > i and data.shape[1] > j:\n",
    "        if data[i,j] == \".\":\n",
    "            data[i,j] = \"#\"\n",
    "        else:\n",
    "            data[i,j] += \"#\"\n",
    "       \n",
    "def antinodes(i, j):\n",
    "    i1 = i[0]\n",
    "    j1 = j[0]\n",
    "    for i_n, j_n in zip(i[1:], j[1:]):\n",
    "        i_distance = i_n - i1\n",
    "        j_distance = j_n - j1\n",
    "\n",
    "        i1_antinode = i1 - i_distance\n",
    "        j1_antinode = j1 - j_distance\n",
    "        test_antinodes(i1_antinode, j1_antinode)\n",
    "\n",
    "        i_n_antinode = i_n + i_distance\n",
    "        j_n_antinode = j_n + j_distance\n",
    "        test_antinodes(i_n_antinode, j_n_antinode)\n",
    "\n",
    "    if len(i[1:]) > 1:\n",
    "        antinodes(i[1:],j[1:])\n",
    "\n",
    "def process(data):\n",
    "    exceptions_chars = [\"#\",'.']\n",
    "    for values in data: \n",
    "        for x in values:\n",
    "            xx = x[0]\n",
    "            if xx not in exceptions_chars:\n",
    "                exceptions_chars.append(x)\n",
    "                starts_with_a_2d = np.char.startswith(data, xx)\n",
    "                positions_2d = np.where(starts_with_a_2d)\n",
    "                i, j = positions_2d\n",
    "                antinodes(i, j)\n",
    "    contains_hash_2d = np.char.find(data, '#') != -1\n",
    "    count_hash_cells_2d = np.sum(contains_hash_2d)\n",
    "    return count_hash_cells_2d\n",
    "\n",
    "data = load_data(FILE_NAME)\n",
    "print(process(data))"
   ],
   "execution_count":10,
   "outputs":[
    {
     "name":"stdout",
     "text":[
      "305\n"
     ],
     "output_type":"stream"
    }
   ],
   "metadata":{
    "datalore":{
     "node_id":"KxXsD48Vj1et3T0BecRj6d",
     "type":"CODE",
     "hide_input_from_viewers":true,
     "hide_output_from_viewers":true
    }
   }
  },
  {
   "cell_type":"markdown",
   "source":[
    "# Part Two **OK**"
   ],
   "attachments":{},
   "metadata":{
    "datalore":{
     "node_id":"7pFuUOEnnJTM5MeNw1PXbJ",
     "type":"MD",
     "hide_input_from_viewers":true,
     "hide_output_from_viewers":true
    }
   }
  },
  {
   "cell_type":"code",
   "source":[
    "import re\n",
    "import numpy as np\n",
    "\n",
    "FILE_NAME = \"day_08_input11.txt\"\n",
    "\n",
    "def load_data(file_name):\n",
    "    file= open(file_name, \"r\")\n",
    "    data = [[l for l in line] for line in file.read().splitlines()]\n",
    "    npdata = np.array(data, dtype='<U5')\n",
    "    return npdata\n",
    "\n",
    "def test_antinodes(i, j, i_distance, j_distance):\n",
    "    i1_antinode = i - i_distance\n",
    "    j1_antinode = j - j_distance\n",
    "    if i1_antinode >= 0 and j1_antinode >= 0 and data.shape[0] > i1_antinode and data.shape[1] > j1_antinode:\n",
    "        if data[i1_antinode,j1_antinode] == \".\":\n",
    "            data[i1_antinode,j1_antinode] = \"#\"\n",
    "        else:\n",
    "            data[i1_antinode,j1_antinode] += \"#\"\n",
    "        test_antinodes(i1_antinode, j1_antinode, i_distance, j_distance)\n",
    "             \n",
    "def antinodes(i, j):\n",
    "    i1 = i[0]\n",
    "    j1 = j[0]\n",
    "    for i_n, j_n in zip(i[1:], j[1:]):\n",
    "        i_distance = i_n - i1\n",
    "        j_distance = j_n - j1\n",
    "        test_antinodes(i1, j1, i_distance, j_distance)\n",
    "        test_antinodes(i_n, j_n, -i_distance, -j_distance)\n",
    "\n",
    "    if len(i[1:]) > 1:\n",
    "        antinodes(i[1:],j[1:])\n",
    "    \n",
    "def process(data):\n",
    "    exceptions_chars = [\"#\",'.']\n",
    "    for values in data: \n",
    "        for x in values:\n",
    "            xx = x[0]\n",
    "            if xx not in exceptions_chars:\n",
    "                exceptions_chars.append(x)\n",
    "                starts_with_a_2d = np.char.startswith(data, xx)\n",
    "                positions_2d = np.where(starts_with_a_2d)\n",
    "\n",
    "                i, j = positions_2d\n",
    "                antinodes(i, j)\n",
    "   \n",
    "    contains_hash_2d = np.char.find(data, '.') == -1\n",
    "    count_hash_cells_2d = np.sum(contains_hash_2d)\n",
    "    return count_hash_cells_2d\n",
    "\n",
    "data = load_data(FILE_NAME)\n",
    "print(process(data))"
   ],
   "execution_count":13,
   "outputs":[
    {
     "name":"stdout",
     "text":[
      "1150\n"
     ],
     "output_type":"stream"
    }
   ],
   "metadata":{
    "datalore":{
     "node_id":"ZeHoYUtogfKCZcVKM4D4IK",
     "type":"CODE",
     "hide_input_from_viewers":true,
     "hide_output_from_viewers":true
    }
   }
  },
  {
   "cell_type":"markdown",
   "source":[
    "version with visual print"
   ],
   "attachments":{},
   "metadata":{
    "datalore":{
     "node_id":"ScFrp1jRTkVdfVNDTu8mfg",
     "type":"MD",
     "hide_input_from_viewers":true,
     "hide_output_from_viewers":true
    }
   }
  },
  {
   "cell_type":"code",
   "source":[
    "import re\n",
    "import numpy as np\n",
    "\n",
    "FILE_NAME = \"day_08_input11.txt\"\n",
    "\n",
    "def load_data(file_name):\n",
    "    file= open(file_name, \"r\")\n",
    "    data = [[l for l in line] for line in file.read().splitlines()]\n",
    "    npdata = np.array(data, dtype='<U5')\n",
    "    return npdata\n",
    "\n",
    "def test_antinodes(i, j, i_distance, j_distance, a):\n",
    "    i1_antinode = i - i_distance\n",
    "    j1_antinode = j - j_distance\n",
    "    if i1_antinode >= 0 and j1_antinode >= 0 and data.shape[0] > i1_antinode and data.shape[1] > j1_antinode:\n",
    "        if data[i1_antinode,j1_antinode] == \".\":\n",
    "            data[i1_antinode,j1_antinode] = \"#\"\n",
    "        else:\n",
    "            data[i1_antinode,j1_antinode] += a+\"#\"\n",
    "        test_antinodes(i1_antinode, j1_antinode, i_distance, j_distance, a)\n",
    "        \n",
    "       \n",
    "def antinodes(i, j):\n",
    "    i1 = i[0]\n",
    "    j1 = j[0]\n",
    "    a = data[i1,j1]\n",
    "\n",
    "    for i_n, j_n in zip(i[1:], j[1:]):\n",
    "        i_distance = i_n - i1\n",
    "        j_distance = j_n - j1\n",
    "        test_antinodes(i1, j1, i_distance, j_distance, a)\n",
    "        test_antinodes(i_n, j_n, -i_distance, -j_distance, a)\n",
    "\n",
    "    if len(i[1:]) > 1:\n",
    "        antinodes(i[1:],j[1:])\n",
    "    \n",
    "def process(data):\n",
    "    print(data)\n",
    "    # for remove duplicates faster run\n",
    "    exceptions_chars = [\"#\",'.']\n",
    "    for values in data: \n",
    "        for x in values:\n",
    "            xx = x[0]\n",
    "            if xx not in exceptions_chars:\n",
    "                exceptions_chars.append(x)\n",
    "                starts_with_a_2d = np.char.startswith(data, xx)\n",
    "                positions_2d = np.where(starts_with_a_2d)\n",
    "\n",
    "                i, j = positions_2d\n",
    "                antinodes(i, j)\n",
    "    print(data)   \n",
    "    print(np.char.find(data, '#'))\n",
    "    contains_hash_2d = np.char.find(data, '.') == -1\n",
    "\n",
    "    count_hash_cells_2d = np.sum(contains_hash_2d)\n",
    "    return count_hash_cells_2d\n",
    "\n",
    "data = load_data(FILE_NAME)\n",
    "print(process(data))"
   ],
   "execution_count":14,
   "outputs":[
    {
     "name":"stdout",
     "text":[
      "[['.' '.' '.' ... '.' '.' '.']\n",
      " ['.' '.' '.' ... '.' '.' '.']\n",
      " ['.' '.' 'Y' ... '.' '.' '.']\n",
      " ...\n",
      " ['.' '.' '.' ... '.' '.' '.']\n",
      " ['.' '.' '.' ... '.' '.' '.']\n",
      " ['.' '.' '.' ... '.' '.' '.']]\n",
      "[['.' '.' '#3#3#' ... '#c#l#' '.' '.']\n",
      " ['#5#' '.' '#' ... '#' '#zJ##' '.']\n",
      " ['.' '#' 'YOU##' ... '.' '.' '#']\n",
      " ...\n",
      " ['.' '.' '#z#' ... '.' '#' '#']\n",
      " ['.' '.' '#' ... '#' '.' '#13#3']\n",
      " ['#' '.' '.' ... '.' '#' '#']]\n",
      "[[-1 -1  0 ...  0 -1 -1]\n",
      " [ 0 -1  0 ...  0  0 -1]\n",
      " [-1  0  3 ... -1 -1  0]\n",
      " ...\n",
      " [-1 -1  0 ... -1  0  0]\n",
      " [-1 -1  0 ...  0 -1  0]\n",
      " [ 0 -1 -1 ... -1  0  0]]\n",
      "1150\n"
     ],
     "output_type":"stream"
    }
   ],
   "metadata":{
    "datalore":{
     "node_id":"V2ZQ442dhiu9mNVgxK3IG6",
     "type":"CODE",
     "hide_input_from_viewers":true,
     "hide_output_from_viewers":true
    }
   }
  }
 ],
 "metadata":{
  "kernelspec":{
   "display_name":"Python",
   "language":"python",
   "name":"python"
  },
  "datalore":{
   "computation_mode":"JUPYTER",
   "package_manager":"pip",
   "base_environment":"default",
   "packages":[],
   "report_row_ids":[],
   "version":3
  }
 },
 "nbformat":4,
 "nbformat_minor":4
}
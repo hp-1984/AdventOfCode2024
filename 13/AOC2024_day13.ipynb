{
 "cells":[
  {
   "cell_type":"markdown",
   "source":[
    "# Part One **OK**"
   ],
   "attachments":{},
   "metadata":{
    "datalore":{
     "node_id":"twWdLvgJSnlCRJOSoAg7w2",
     "type":"MD",
     "hide_input_from_viewers":true,
     "hide_output_from_viewers":true
    }
   }
  },
  {
   "cell_type":"code",
   "source":[
    "import re\n",
    "from sympy import symbols, Eq, solve\n",
    "\n",
    "FILE_NAME = \"day_13_input11.txt\"\n",
    "\n",
    "finded_regions = {}\n",
    "finded_region = {}\n",
    "def load_data(file_name):\n",
    "    file= open(file_name, \"r\")\n",
    "    data = []\n",
    "    count = 0\n",
    "    reg = r\"\\d+\"\n",
    "    for line in file.readlines():\n",
    "            if \"Button A:\" in line or \"Button B:\" in line:\n",
    "                data.append(list(int(digit) for digit in re.findall(reg, line)))\n",
    "            elif \"Prize:\" in line:\n",
    "                data.append(list(int(digit) for digit in re.findall(reg, line)))\n",
    "\n",
    "                A, B = symbols('A B')\n",
    "\n",
    "                eq1 = Eq(A*data[0][0] + B*data[1][0], data[2][0])  \n",
    "                eq2 = Eq(A*data[0][1] + B*data[1][1], data[2][1]) \n",
    "\n",
    "                solution = solve((eq1, eq2),(A, B)) \n",
    "                if solution[A].is_integer and solution[B].is_integer:\n",
    "                    count += solution[A]*3 + solution[B]*1 \n",
    "                data = []\n",
    "    return count\n",
    "    \n",
    "def process(data):\n",
    "    ret = 0\n",
    "    return data\n",
    "\n",
    "\n",
    "data = load_data(FILE_NAME)\n",
    "print(process(data))"
   ],
   "execution_count":52,
   "outputs":[
    {
     "name":"stdout",
     "text":[
      "33481\n"
     ],
     "output_type":"stream"
    }
   ],
   "metadata":{
    "datalore":{
     "node_id":"JTYUMJ3XpUY8ssnRTRWg7S",
     "type":"CODE",
     "hide_input_from_viewers":true,
     "hide_output_from_viewers":true
    }
   }
  },
  {
   "cell_type":"markdown",
   "source":[
    "# Part Two **OK**"
   ],
   "attachments":{},
   "metadata":{
    "datalore":{
     "node_id":"TpyJoduLq3jHbcnV5oxEcE",
     "type":"MD",
     "hide_input_from_viewers":true,
     "hide_output_from_viewers":true
    }
   }
  },
  {
   "cell_type":"code",
   "source":[
    "import re\n",
    "from sympy import symbols, Eq, solve\n",
    "\n",
    "FILE_NAME = \"day_13_input11.txt\"\n",
    "\n",
    "finded_regions = {}\n",
    "finded_region = {}\n",
    "def load_data(file_name):\n",
    "    file= open(file_name, \"r\")\n",
    "    data = []\n",
    "    count = 0\n",
    "    reg = r\"\\d+\"\n",
    "    for line in file.readlines():\n",
    "            if \"Button A:\" in line or \"Button B:\" in line:\n",
    "                data.append(list(int(digit) for digit in re.findall(reg, line)))\n",
    "            elif \"Prize:\" in line:\n",
    "                xy = list(int(digit) for digit in re.findall(reg, line))\n",
    "                xy[0] += 10000000000000\n",
    "                xy[1] += 10000000000000\n",
    "                data.append(xy)\n",
    "\n",
    "                A, B = symbols('A B')\n",
    "\n",
    "                eq1 = Eq(A*data[0][0] + B*data[1][0], data[2][0])  \n",
    "                eq2 = Eq(A*data[0][1] + B*data[1][1], data[2][1]) \n",
    "\n",
    "                solution = solve((eq1, eq2),(A, B)) \n",
    "                if solution[A].is_integer and solution[B].is_integer:\n",
    "                    count += solution[A]*3 + solution[B]*1 \n",
    "                data = []\n",
    "    return count\n",
    "    \n",
    "def process(data):\n",
    "    ret = 0\n",
    "    return data\n",
    "\n",
    "data = load_data(FILE_NAME)\n",
    "print(process(data))"
   ],
   "execution_count":51,
   "outputs":[
    {
     "name":"stdout",
     "text":[
      "92572057880885\n"
     ],
     "output_type":"stream"
    }
   ],
   "metadata":{
    "datalore":{
     "node_id":"W7GI1uLEumptduXqaQyx0a",
     "type":"CODE",
     "hide_input_from_viewers":true,
     "hide_output_from_viewers":true
    }
   }
  }
 ],
 "metadata":{
  "kernelspec":{
   "display_name":"Python",
   "language":"python",
   "name":"python"
  },
  "datalore":{
   "computation_mode":"JUPYTER",
   "package_manager":"pip",
   "base_environment":"default",
   "packages":[],
   "report_row_ids":[],
   "version":3
  }
 },
 "nbformat":4,
 "nbformat_minor":4
}
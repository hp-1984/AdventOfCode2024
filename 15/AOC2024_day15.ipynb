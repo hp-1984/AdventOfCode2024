{
 "cells":[
  {
   "cell_type":"markdown",
   "source":[
    "# Part One **OK**"
   ],
   "attachments":{},
   "metadata":{
    "datalore":{
     "node_id":"uIuuouDJ2oj6T19IFbSA17",
     "type":"MD",
     "hide_input_from_viewers":true,
     "hide_output_from_viewers":true
    }
   }
  },
  {
   "cell_type":"code",
   "source":[
    "import re\n",
    "import numpy as np\n",
    "\n",
    "FILE_NAME = \"day_15_input11.txt\"\n",
    "\n",
    "def load_data(file_name):\n",
    "    file= open(file_name, \"r\")\n",
    "    mapa = []\n",
    "    program = []\n",
    "    line = file.readline()\n",
    "    while line:\n",
    "        l = []\n",
    "        for char in line:\n",
    "            if char in (\"<\", \">\", \"^\", \"v\"):\n",
    "                program.append(char)\n",
    "            elif char in (\"#\", \"O\", \".\", \"@\"):\n",
    "                l.append(char)\n",
    "        if len(l) != 0:\n",
    "            mapa.append(l)\n",
    "        line = file.readline()\n",
    "\n",
    "    return mapa, program\n",
    "\n",
    "def step(mapa, poz, direction):\n",
    "    y, x = poz\n",
    "    if direction == \"<\":\n",
    "        poz2 = (y, x-1)\n",
    "    elif direction == \">\":\n",
    "        poz2 = (y, x+1)\n",
    "    elif direction == \"^\":\n",
    "        poz2 = (y-1, x)\n",
    "    elif direction == \"v\":\n",
    "        poz2 = (y+1, x)\n",
    "    \n",
    "\n",
    "    if mapa[poz2] == \"#\":\n",
    "        return poz\n",
    "    elif mapa[poz2] == \".\":\n",
    "        mapa[poz], mapa[poz2] = mapa[poz2], mapa[poz]\n",
    "        return poz2\n",
    "    elif mapa[poz2] == \"O\":\n",
    "        poz3 = step(mapa, poz2, direction)\n",
    "        if poz2 != poz3:\n",
    "            mapa[poz], mapa[poz2] = mapa[poz2], mapa[poz]\n",
    "            return poz2\n",
    "        else:\n",
    "            return poz\n",
    "\n",
    "def process(mapa, program):\n",
    "    ret = 0\n",
    "    mapa = np.array(mapa)\n",
    "    robot = np.where(mapa == \"@\")\n",
    "    robot = list(zip(robot[0],robot[1]))[0]\n",
    "    for direction in program:\n",
    "        robot = step(mapa, robot, direction)\n",
    "    \n",
    "    boxes = np.where(mapa == \"O\")\n",
    "    boxes = list(zip(boxes[0], boxes[1]))             \n",
    "    for y, x in boxes:\n",
    "        ret += 100*y+x\n",
    "    return ret\n",
    "\n",
    "mapa, program = load_data(FILE_NAME)\n",
    "print(process(mapa, program))"
   ],
   "execution_count":68,
   "outputs":[
    {
     "name":"stdout",
     "text":[
      "1478649\n"
     ],
     "output_type":"stream"
    }
   ],
   "metadata":{
    "datalore":{
     "node_id":"QqROuEpey3ZemMuw8phmy9",
     "type":"CODE",
     "hide_input_from_viewers":true,
     "hide_output_from_viewers":true
    }
   }
  },
  {
   "cell_type":"markdown",
   "source":[
    "# Part Two **??**\n",
    "\n",
    "pass"
   ],
   "attachments":{},
   "metadata":{
    "datalore":{
     "node_id":"ogwKDt4iAMdwYShAm8zMXl",
     "type":"MD",
     "hide_input_from_viewers":true,
     "hide_output_from_viewers":true
    }
   }
  },
  {
   "cell_type":"code",
   "source":[
    "import re\n",
    "import numpy as np\n",
    "\n",
    "FILE_NAME = \"day_15_input10.txt\"\n",
    "\n",
    "def load_data(file_name):\n",
    "    file= open(file_name, \"r\")\n",
    "    mapa = []\n",
    "    program = []\n",
    "    line = file.readline()\n",
    "    while line:\n",
    "        l = []\n",
    "        for char in line:\n",
    "            if char in (\"<\", \">\", \"^\", \"v\"):\n",
    "                program.append(char)\n",
    "            elif char in (\"#\", \"O\", \".\", \"@\"):\n",
    "                if char == \"#\" or char == \".\":\n",
    "                    l.append(char)\n",
    "                    l.append(char)\n",
    "                elif char == \"O\":\n",
    "                    l.append(\"[\")\n",
    "                    l.append(\"]\")\n",
    "                elif char == \"@\":\n",
    "                    l.append(char)\n",
    "                    l.append(\".\")\n",
    "        if len(l) != 0:\n",
    "            mapa.append(l)\n",
    "\n",
    "        line = file.readline()\n",
    "    return mapa, program\n",
    "\n",
    "def step(mapa, poz, direction):\n",
    "    #print(\"💲🦆🦆🦆\", poz)\n",
    "    y, x1, x2 = poz\n",
    "    if direction == \"<\":\n",
    "        poz2 = (y, x1-1, x2-1)\n",
    "    elif direction == \">\":\n",
    "        poz2 = (y, x1+1, x2+1)\n",
    "    elif direction == \"^\":\n",
    "        poz2 = (y-1, x1, x2)\n",
    "    elif direction == \"v\":\n",
    "        poz2 = (y+1,  x1, x2)\n",
    "    \n",
    "    sliced_arr = mapa[poz2[0], poz2[1]:poz[2]]\n",
    "\n",
    "    #if mapa[poz2] == \"#\":\n",
    "    if any((np.char.find(sliced_arr, '#') != -1)):\n",
    "        return poz\n",
    "    #elif mapa[poz2] == \".\":\n",
    "    elif all((np.char.find(sliced_arr, '.') != -1)):\n",
    "        mapa[y, x1:x2], mapa[poz2[0], poz2[1]:poz2[2]] = mapa[poz2[0], poz2[1]:poz2[2]], mapa[y, x1:x2]\n",
    "        return poz2\n",
    "    #elif mapa[poz2] == \"]\":\n",
    "    elif any((np.char.find(sliced_arr, '[') != -1)) | any((np.char.find(sliced_arr, ']') != -1)):\n",
    "        if any((np.char.find(sliced_arr, '[') != -1)): \n",
    "            poz3 = (poz2[0], poz2[1], poz2[2]+1)\n",
    "        elif any((np.char.find(sliced_arr, ']') != -1)):\n",
    "            poz3 = (poz2[0], poz2[1]-1, poz2[2])\n",
    "        else:\n",
    "            poz3 = poz2\n",
    "        #print(\"🤖🤖🤖🤖\", poz3)\n",
    "        poz4 = step(mapa, poz3, direction)\n",
    "        if poz3 != poz4:\n",
    "            if poz[2]-poz[1] == poz3[2]-poz3[1]:\n",
    "                mapa[y, x1:x2], mapa[poz3[0], poz3[1]:poz3[2]] = mapa[poz3[0], poz3[1]:poz3[2]], mapa[y, x1:x2]\n",
    "            else:\n",
    "                mapa[y, x1:x2], mapa[poz2[0], poz2[1]:poz2[2]] = mapa[poz2[0], poz2[1]:poz2[2]], mapa[y, x1:x2]\n",
    "            \n",
    "            return poz2\n",
    "        else:\n",
    "            return poz\n",
    "\n",
    "def process(mapa, program):\n",
    "    ret = 0\n",
    "    mapa = np.array(mapa)\n",
    "    robot = np.where(mapa == \"@\")\n",
    "    robot = list(zip(robot[0],robot[1], robot[1]+1))[0]\n",
    "    for direction in program:\n",
    "        robot = step(mapa, robot, direction)\n",
    "    \n",
    "        #print(\"🦆\", mapa)\n",
    "\n",
    "\n",
    "    boxes = np.where(mapa == \"]\")\n",
    "    boxes = list(zip(boxes[0], boxes[1]))             \n",
    "    for y, x in boxes:\n",
    "        ret += 100*y+x\n",
    "    return ret\n",
    "\n",
    "mapa, program = load_data(FILE_NAME)\n",
    "print(process(mapa, program))"
   ],
   "execution_count":28,
   "outputs":[
    {
     "ename":"ValueError",
     "evalue":"ValueError: could not broadcast input array from shape (0,) into shape (1,)",
     "traceback":[
      "\u001b[0;31m---------------------------------------------------------------------------",
      "Traceback (most recent call last)",
      "    at line 91 in <module>",
      "    at line 79 in process(mapa, program)",
      "    at line 51 in step(mapa, poz, direction)",
      "ValueError: could not broadcast input array from shape (0,) into shape (1,)"
     ],
     "output_type":"error"
    }
   ],
   "metadata":{
    "datalore":{
     "node_id":"4BfhU5Cjmxy43nRvBcXIc9",
     "type":"CODE",
     "hide_input_from_viewers":true,
     "hide_output_from_viewers":true
    }
   }
  },
  {
   "cell_type":"markdown",
   "source":[
    "smart solution [git](https:\/\/topaz.github.io\/paste\/#XQAAAQBbAwAAAAAAAAAznIlVuo9qg5SL+E+dSUlMqbFSuX55LQwn13BRRp5b6LvWbsHa2XUd+CrT8JzMVS8rlcuskkNKPfrSKh95KoNk6Vh0DQC6gTsapjgOHkaqs6SICpX4JbylKyAUayT0aApUchDitiYM0jW1Aez74DE46+Ew7cBU0oT9X+ztl3P41yV0Pw89TLCImcNdabfOXcNI1I4ghOe5U1d511Mw+v1FZyqGkR9SYWamQcWTPKTJPqGson\/QJXUS1lTkAgR0s+dqbNwbUr1Ljhp7T\/W8ZGcy5PosnJ2Xp2GURAhh0LYpCD3mQK27McQSbpUb31cUW8sr5\/XmpmZ3qXUSXO3BzdHJfki6P6YrKVdzFKObGbg4O75Tao7UDW27lRqirMTHehtjLOJHGyDB2BWSlTJ7efA4wNJRfvZqO8Zuse2QI0ljnzhbNsVdU598cZzOQ15arGr7aqF+TK\/x3onUZzj2Mn9T53YqIiDXawuX9iyhXROYsL5GjnPAk2Cz6qERUbkAXYfTRmXS9BlfsceUWNfBu6jAySwdNY00YaXjnO1SUR0UjWz6ng0q4Vr5JVLhSf5Liwg=)"
   ],
   "attachments":{},
   "metadata":{
    "datalore":{
     "node_id":"4sKNIvjpnrwGuynnZSrQ85",
     "type":"MD",
     "hide_input_from_viewers":true,
     "hide_output_from_viewers":true
    }
   }
  },
  {
   "cell_type":"code",
   "source":[
    "grid, moves = open('day_15_input11.txt').read().split('\\n\\n')\n",
    "\n",
    "def move(p, d):\n",
    "    p += d\n",
    "    if all([\n",
    "        grid[p] != '[' or move(p+1, d) and move(p, d),\n",
    "        grid[p] != ']' or move(p-1, d) and move(p, d),\n",
    "        grid[p] != 'O' or move(p, d), grid[p] != '#']):\n",
    "            grid[p], grid[p-d] = grid[p-d], grid[p]\n",
    "            return True\n",
    "\n",
    "\n",
    "for grid in grid, grid.translate(str.maketrans(\n",
    "        {'#':'##', '.':'..', 'O':'[]', '@':'@.'})):\n",
    "\n",
    "    grid = {i+j*1j:c for j,r in enumerate(grid.split())\n",
    "                     for i,c in enumerate(r)}\n",
    "\n",
    "    pos, = [p for p in grid if grid[p] == '@']\n",
    "\n",
    "    for m in moves.replace('\\n', ''):\n",
    "        dir = {'<':-1, '>':+1, '^':-1j, 'v':+1j}[m]\n",
    "        C = grid.copy()\n",
    "\n",
    "        if move(pos, dir): pos += dir\n",
    "        else: grid = C\n",
    "\n",
    "    ans = sum(pos for pos in grid if grid[pos] in 'O[')\n",
    "    print(int(ans.real + ans.imag*100))"
   ],
   "execution_count":56,
   "outputs":[
    {
     "name":"stdout",
     "text":[
      "10092\n",
      "9021\n"
     ],
     "output_type":"stream"
    }
   ],
   "metadata":{
    "datalore":{
     "node_id":"qECKc3ROChkyVMkQfwPYR2",
     "type":"CODE",
     "hide_input_from_viewers":true,
     "hide_output_from_viewers":true
    }
   }
  }
 ],
 "metadata":{
  "kernelspec":{
   "display_name":"Python",
   "language":"python",
   "name":"python"
  },
  "datalore":{
   "computation_mode":"JUPYTER",
   "package_manager":"pip",
   "base_environment":"default",
   "packages":[],
   "report_row_ids":[],
   "version":3
  }
 },
 "nbformat":4,
 "nbformat_minor":4
}
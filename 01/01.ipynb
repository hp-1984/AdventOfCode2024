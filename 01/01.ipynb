{
 "cells":[
  {
   "cell_type":"code",
   "source":[
    "import bisect\n",
    "\n",
    "FILE_NAME = \"day_01_input11.txt\"\n",
    "\n",
    "def load_data(file_name):\n",
    "    file= open(file_name, \"r\")\n",
    "    lines = file.readlines()\n",
    "    return lines\n",
    "\n",
    "\n",
    "def process_elfs(lines):\n",
    "    left = []\n",
    "    right = []\n",
    "    response = 0\n",
    "\n",
    "    for  line in lines:\n",
    "        a, b = line.split()\n",
    "        bisect.insort(left, int(a))\n",
    "        bisect.insort(right, int(b))\n",
    "\n",
    "    for n, i in enumerate(left):\n",
    "        #print(right[n], i, \"=\", right[n] - i)\n",
    "        response += abs(right[n] - i) \n",
    "\n",
    "    return response\n",
    "\n",
    "lines = load_data(FILE_NAME)\n",
    "print(process_elfs(lines))"
   ],
   "execution_count":48,
   "outputs":[
    {
     "name":"stdout",
     "text":[
      "1319616\n"
     ],
     "output_type":"stream"
    }
   ],
   "metadata":{
    "datalore":{
     "node_id":"4RLhxhMqtDmocLwyAiZ8BL",
     "type":"CODE",
     "hide_input_from_viewers":true,
     "hide_output_from_viewers":true
    }
   }
  },
  {
   "cell_type":"code",
   "source":[
    "import bisect\n",
    "\n",
    "FILE_NAME = \"day_01_input21.txt\"\n",
    "\n",
    "def load_data(file_name):\n",
    "    file= open(file_name, \"r\")\n",
    "    lines = file.readlines()\n",
    "    return lines\n",
    "\n",
    "\n",
    "def process_elfs(lines):\n",
    "    left = []\n",
    "    right = []\n",
    "    response = 0\n",
    "\n",
    "    for  line in lines:\n",
    "        a, b = line.split()\n",
    "        bisect.insort(left, int(a))\n",
    "        bisect.insort(right, int(b))\n",
    "\n",
    "    for i in left:\n",
    "        response +=  i * right.count(i) \n",
    "\n",
    "    return response\n",
    "\n",
    "lines = load_data(FILE_NAME)\n",
    "print(process_elfs(lines))"
   ],
   "execution_count":47,
   "outputs":[
    {
     "name":"stdout",
     "text":[
      "27267728\n"
     ],
     "output_type":"stream"
    }
   ],
   "metadata":{
    "datalore":{
     "node_id":"iS8a7jDztoLO1B84hFOI3C",
     "type":"CODE",
     "hide_input_from_viewers":true,
     "hide_output_from_viewers":true
    }
   }
  }
 ],
 "metadata":{
  "kernelspec":{
   "display_name":"Python",
   "language":"python",
   "name":"python"
  },
  "datalore":{
   "computation_mode":"JUPYTER",
   "package_manager":"pip",
   "base_environment":"default",
   "packages":[],
   "report_row_ids":[],
   "version":3
  }
 },
 "nbformat":4,
 "nbformat_minor":4
}
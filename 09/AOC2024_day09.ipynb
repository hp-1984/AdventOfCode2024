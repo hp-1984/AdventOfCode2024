{
 "cells":[
  {
   "cell_type":"markdown",
   "source":[
    "# Part One **OK**"
   ],
   "attachments":{},
   "metadata":{
    "datalore":{
     "node_id":"hjFtL78pG2QVZTVQltpWXa",
     "type":"MD",
     "hide_input_from_viewers":true,
     "hide_output_from_viewers":true
    }
   }
  },
  {
   "cell_type":"code",
   "source":[
    "FILE_NAME = \"day_09_input11.txt\"\n",
    "\n",
    "def load_data(file_name):\n",
    "    file= open(file_name, \"r\")\n",
    "    data = str(file.read())\n",
    "    return data\n",
    "\n",
    "def reorder(data):\n",
    "    last_id = len(data)-1\n",
    "    for ic, c in enumerate(data):\n",
    "        if ic >= last_id:\n",
    "            break\n",
    "        if c == '.':\n",
    "            while c:\n",
    "                if data[last_id] != '.':\n",
    "                    data[ic], data[last_id] =  data[last_id], data[ic]\n",
    "                    c = ''\n",
    "                last_id -= 1\n",
    "        \n",
    "def cs(data):\n",
    "    '''Count filesystem checksum'''\n",
    "    s = 0\n",
    "    for i, c in enumerate(data):\n",
    "        if c != '.':\n",
    "            s += i * int(c)\n",
    "    return s\n",
    "\n",
    "def unpack(data):\n",
    "    id = 0\n",
    "    unpacked_data = []\n",
    "    for i, c in enumerate(data):\n",
    "        c = int(c)\n",
    "        if i % 2 == 0:\n",
    "            for _ in range(c):\n",
    "                unpacked_data.append(id)\n",
    "            id += 1\n",
    "        else:\n",
    "            for _ in range(c):\n",
    "                unpacked_data.append('.')\n",
    "    return unpacked_data\n",
    "        \n",
    "def process(data):\n",
    "    un = unpack(data)\n",
    "    reorder(un)\n",
    "    answer=cs(un)\n",
    "\n",
    "    return answer\n",
    "\n",
    "data = load_data(FILE_NAME)\n",
    "print(process(data))"
   ],
   "execution_count":11,
   "outputs":[
    {
     "name":"stdout",
     "text":[
      "6341711060162\n"
     ],
     "output_type":"stream"
    }
   ],
   "metadata":{
    "datalore":{
     "node_id":"36SCQmV4twYaaxpp0M9BCN",
     "type":"CODE",
     "hide_input_from_viewers":true,
     "hide_output_from_viewers":true
    }
   }
  },
  {
   "cell_type":"markdown",
   "source":[
    "# Part Two **OK**"
   ],
   "attachments":{},
   "metadata":{
    "datalore":{
     "node_id":"wKiEzVnrwl4Yg9S1npiXBa",
     "type":"MD",
     "hide_input_from_viewers":true,
     "hide_output_from_viewers":true
    }
   }
  },
  {
   "cell_type":"code",
   "source":[
    "import re\n",
    "import numpy as np\n",
    "\n",
    "FILE_NAME = \"day_09_input11.txt\"\n",
    "\n",
    "def load_data(file_name):\n",
    "    file= open(file_name, \"r\")\n",
    "    data = str(file.read())\n",
    "    return data\n",
    "\n",
    "def len_files(data):\n",
    "    grouped_files = []\n",
    "    grouped_space = []\n",
    "    end_idx = len(data)-1\n",
    "\n",
    "    for i in reversed(range(len(data))):\n",
    "        if i == 0 or data[i] != data[i - 1]:\n",
    "            if data[i] != \".\":\n",
    "                grouped_files.append((i, end_idx+1))\n",
    "            if data[i] == \".\":\n",
    "                grouped_space.insert(0, (i, end_idx+1))\n",
    "            end_idx = i - 1\n",
    "    return grouped_files, grouped_space\n",
    "\n",
    "def reorder(data):\n",
    "    files, spaces = len_files(data)\n",
    "    #print(\"📁\",files)\n",
    "    #print(\"🌌\",spaces)\n",
    "    for i, j in files:\n",
    "        file_len = j-i\n",
    "        for sid, space in enumerate(spaces):\n",
    "            if space[0]+file_len <= space[1] and i >= space[1]:\n",
    "                data[space[0]:space[0]+file_len], data[i:j] = data[i:j], data[space[0]:space[0]+file_len]\n",
    "                if space[0]+file_len == space[1]:\n",
    "                    spaces.pop(sid)\n",
    "                else:\n",
    "                    spaces[sid]=(space[0]+file_len, space[1])\n",
    "                break\n",
    "       \n",
    "def cs(data):\n",
    "    s = 0\n",
    "    for i, c in enumerate(data):\n",
    "        if c != '.':\n",
    "            s += i * int(c)\n",
    "    return s\n",
    "\n",
    "def unpack(data):\n",
    "    id = 0\n",
    "    unpacked_data = []\n",
    "    for i, c in enumerate(data):\n",
    "        c = int(c)\n",
    "        if i % 2 == 0:\n",
    "            for _ in range(c):\n",
    "                unpacked_data.append(id)\n",
    "            id += 1\n",
    "        else:\n",
    "            for _ in range(c):\n",
    "                unpacked_data.append('.')\n",
    "    return unpacked_data\n",
    "        \n",
    "def process(data):\n",
    "    answer = 0\n",
    "    un = unpack(data)\n",
    "    reorder(un)\n",
    "    answer=cs(un)\n",
    "\n",
    "    return answer\n",
    "\n",
    "data = load_data(FILE_NAME)\n",
    "print(process(data))"
   ],
   "execution_count":38,
   "outputs":[
    {
     "name":"stdout",
     "text":[
      "6377400869326\n"
     ],
     "output_type":"stream"
    }
   ],
   "metadata":{
    "datalore":{
     "node_id":"4qfwYVx4W0DmB5t8UBNVMa",
     "type":"CODE",
     "hide_input_from_viewers":true,
     "hide_output_from_viewers":true
    }
   }
  },
  {
   "cell_type":"markdown",
   "source":[
    "other solutions from:  \n",
    "[git](https:\/\/topaz.github.io\/paste\/#XQAAAQDbBAAAAAAAAAAzHIoib6pXbueH4X9F244lVRDcOZab5q1+VXY\/ex42qR7D+RLbGAmEZMhJ9uw2UMx1yGIpgxPXOsOpTK4ff8xstvS5sI3XbpwSQ6IimouqknFKvmo8\/YyCCiiBYfQuDOnz7wRuy3lgcRiyR4DHnVnZ+2ho60KenTyR0daTyb0K0bXmBQNsyWq2gX1hXga4tdpqSFn1ozZ0u4qcfFN\/uiPIW1Wj9T\/ThB2meMzs+jj7Q5VBX+L9Xh8o\/sPYk5ZUDjdNzTQbXI4VzkbfKJ2LClaHOlHg3jVJu2OPxIYtqQEF0GYuxtUyMmP2TKZssZFaFpz1ENN66btf0zcJ8ydDN3zR1hPozASVQTid+jFuZ2kRRZPm2FHCkrvdjtXt76zB\/yx56L+sfxKoQT8Yo2aqh3A5oLE2d2JESNqhf7kkA2MV9GHP9A7saQc65Mlb6e3B\/RBmS643NUOWEO\/ecKGLKe++Ov3UD02GPuyHwPsJliT7XAJwI1C2UnaA4gSyh5QwwDNhLr0j8ejx+\/FaEYM9XPLWzbv8GJiHikT6EdaXSPDETR0Y6hFhmcTAamX9Qxz6ILdy6+VBsLToMcpHdht7mz1FqQWEQ6gexZ1NRS5AiPuORp82xMxAVbEPMwAJAFJ\/aH5WqwnrtDRIR+p1j+hoIhejlGykczl0NS9HTOeiI7y+RniDEewP28B2HB0WogaSylr45SQggkpkXmI9E938Ui0B)"
   ],
   "attachments":{},
   "metadata":{
    "datalore":{
     "node_id":"sVeACm3vcJZD94Jx1hnSZq",
     "type":"MD",
     "hide_input_from_viewers":true,
     "hide_output_from_viewers":true
    }
   }
  },
  {
   "cell_type":"code",
   "source":[
    "# 'day_09_input10.txt'\n",
    "from collections import defaultdict\n",
    "import heapq\n",
    "\n",
    "with open('day_09_input11.txt') as f:\n",
    "    rawinput = f.read()\n",
    "\n",
    "lengths = [int(num) for num in rawinput]\n",
    "\n",
    "filled_grid = {} # ID: start,length\n",
    "gaps = defaultdict(lambda: []) # length: start\n",
    "\n",
    "cur_pos = 0\n",
    "for i,num in enumerate(lengths):\n",
    "    if i%2 == 0:\n",
    "        filled_grid[i\/\/2] = [cur_pos,num]\n",
    "    else:\n",
    "        if num > 0:\n",
    "            heapq.heappush(gaps[num],cur_pos)\n",
    "    cur_pos += num\n",
    "\n",
    "for i in sorted(filled_grid.keys(),reverse=True):\n",
    "    file_start_pos,file_len = filled_grid[i]\n",
    "    possible_gaps = sorted([[gaps[gap_len][0],gap_len] for gap_len in gaps if gap_len>=file_len])\n",
    "    if possible_gaps:\n",
    "        gap_start_pos,gap_len = possible_gaps[0]\n",
    "        if file_start_pos > gap_start_pos:\n",
    "            filled_grid[i] = [gap_start_pos,file_len]\n",
    "            remaining_gap_len = gap_len-file_len\n",
    "            heapq.heappop(gaps[gap_len])\n",
    "            if not gaps[gap_len]:\n",
    "                del gaps[gap_len]\n",
    "            if remaining_gap_len:\n",
    "                heapq.heappush(gaps[remaining_gap_len],gap_start_pos+file_len)\n",
    "\n",
    "#print(filled_grid)\n",
    "                \n",
    "answer = sum(num*(start*length+(length*(length-1))\/\/2) for num,(start,length) in filled_grid.items()) # (start) + (start+1) + ... + (start+length-1)\n",
    "print(answer)"
   ],
   "execution_count":39,
   "outputs":[
    {
     "name":"stdout",
     "text":[
      "6377400869326\n"
     ],
     "output_type":"stream"
    }
   ],
   "metadata":{
    "datalore":{
     "node_id":"uhAlyXlLNHj8vn0jlKd2fe",
     "type":"CODE",
     "hide_input_from_viewers":true,
     "hide_output_from_viewers":true
    }
   }
  }
 ],
 "metadata":{
  "kernelspec":{
   "display_name":"Python",
   "language":"python",
   "name":"python"
  },
  "datalore":{
   "computation_mode":"JUPYTER",
   "package_manager":"pip",
   "base_environment":"default",
   "packages":[],
   "report_row_ids":[],
   "version":3
  }
 },
 "nbformat":4,
 "nbformat_minor":4
}
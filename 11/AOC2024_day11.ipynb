{
 "cells":[
  {
   "cell_type":"markdown",
   "source":[
    "# Sheet"
   ],
   "attachments":{},
   "metadata":{
    "datalore":{
     "node_id":"Sheet",
     "type":"MD",
     "hide_input_from_viewers":false,
     "hide_output_from_viewers":false,
     "sheet_delimiter":true
    }
   }
  },
  {
   "cell_type":"markdown",
   "source":[
    "# Part One **OK**"
   ],
   "attachments":{},
   "metadata":{
    "datalore":{
     "node_id":"ibiPvlxrvK7anSZp0ntG3f",
     "type":"MD",
     "hide_input_from_viewers":true,
     "hide_output_from_viewers":true
    }
   }
  },
  {
   "cell_type":"code",
   "source":[
    "FILE_NAME = \"day_11_input11.txt\"\n",
    "\n",
    "def load_data(file_name):\n",
    "    file= open(file_name, \"r\")  \n",
    "    data = file.read().split()\n",
    "    data = [int(num) for num in data]\n",
    "    return data\n",
    "    \n",
    "def blinking(data):\n",
    "    i = 0\n",
    "    while i != len(data):\n",
    "        number = data[i]\n",
    "        if number == 0:\n",
    "            data[i] = number +1\n",
    "        elif len(str(number)) % 2 == 0:\n",
    "            number_str = str(number)\n",
    "            numbers = [int(number_str[:len(number_str)\/\/2]), int(number_str[len(number_str)\/\/2:])]\n",
    "            data = data[:i] + numbers + data[i+1:]\n",
    "            #for n in numbers:\n",
    "            #    data.insert(i, n) \n",
    "            i += 1\n",
    "        else:\n",
    "            data[i] = number * 2024\n",
    "        i += 1\n",
    "    return data\n",
    "\n",
    "def process(data):\n",
    "    for _ in range(25):\n",
    "        data = blinking(data)\n",
    "    return len(data)\n",
    "\n",
    "data = load_data(FILE_NAME)\n",
    "print(process(data))"
   ],
   "execution_count":34,
   "outputs":[
    {
     "name":"stdout",
     "text":[
      "193269\n"
     ],
     "output_type":"stream"
    }
   ],
   "metadata":{
    "datalore":{
     "node_id":"LYQHhpsOQwNSDMAFG2SMY5",
     "type":"CODE",
     "hide_input_from_viewers":true,
     "hide_output_from_viewers":true
    }
   }
  },
  {
   "cell_type":"markdown",
   "source":[
    "# Part Two **OK**"
   ],
   "attachments":{},
   "metadata":{
    "datalore":{
     "node_id":"4maauXp0RHODlDc9WKuzWJ",
     "type":"MD",
     "hide_input_from_viewers":true,
     "hide_output_from_viewers":true
    }
   }
  },
  {
   "cell_type":"code",
   "source":[
    "FILE_NAME = \"day_11_input11.txt\"\n",
    "store = {}\n",
    "\n",
    "def load_data(file_name):\n",
    "    file= open(file_name, \"r\")  \n",
    "    data = file.read().split()\n",
    "    data = [int(num) for num in data]\n",
    "    return data\n",
    "    \n",
    "def blinking(number, n):\n",
    "    ret = 0\n",
    "    if n == 0:\n",
    "        return 1\n",
    "    elif (number, n) in store:\n",
    "        # Az adott szám az adott szinten előfordult-e már korábban \n",
    "        return store[(number, n)]\n",
    "    elif number == 0:\n",
    "        ret += blinking(1, n-1)\n",
    "    elif len(str(number)) % 2 == 0:\n",
    "        number_str = str(number)\n",
    "        ret +=blinking(int(number_str[:len(number_str)\/\/2]), n-1)\n",
    "        ret +=blinking(int(number_str[len(number_str)\/\/2:]), n-1)\n",
    "    else:\n",
    "        ret +=blinking(number * 2024, n-1)\n",
    "    # Letárolja a felgyorsítás kedvéért \n",
    "    store[(number, n)] = ret\n",
    "    return ret\n",
    "    \n",
    "def process(data):\n",
    "    ret = 0\n",
    "    # Nem hosszába hanem mélységében már eleve gyorsabb tároló nélkül is\n",
    "    for number in data:\n",
    "        ret += blinking(number, 75)\n",
    "    return ret\n",
    "\n",
    "data = load_data(FILE_NAME)\n",
    "print(process(data))"
   ],
   "execution_count":47,
   "outputs":[
    {
     "name":"stdout",
     "text":[
      "228449040027793\n"
     ],
     "output_type":"stream"
    }
   ],
   "metadata":{
    "datalore":{
     "node_id":"YyNNCTTFIhQE63JLywRHOV",
     "type":"CODE",
     "hide_input_from_viewers":true,
     "hide_output_from_viewers":true
    }
   }
  },
  {
   "cell_type":"markdown",
   "source":[
    "The final solution was not based on my own idea 😢  \n",
    "source:  \n",
    "https:\/\/www.reddit.com\/r\/adventofcode\/comments\/1hbm0al\/comment\/m1i36gs\/?utm_source=share&utm_medium=web3x&utm_name=web3xcss&utm_term=1&utm_content=share_button"
   ],
   "attachments":{},
   "metadata":{
    "datalore":{
     "node_id":"RroqYOJ7SWKu1zhEIAuxQ8",
     "type":"MD",
     "hide_input_from_viewers":true,
     "hide_output_from_viewers":true
    }
   }
  },
  {
   "cell_type":"code",
   "source":[
    "stones = list(map(int, open('day_11_input11.txt').readline().strip().split()))\n",
    "memory = {}\n",
    "\n",
    "def solve(stone, blinks):\n",
    "    if blinks == 0:\n",
    "        return 1\n",
    "    elif (stone, blinks) in memory:\n",
    "        return memory[(stone, blinks)]\n",
    "    elif stone == 0:\n",
    "        val = solve(1, blinks - 1)\n",
    "    elif len(str_stone := str(stone)) % 2 == 0:\n",
    "        mid = len(str_stone) \/\/ 2\n",
    "        val = solve(int(str_stone[:mid]), blinks - 1) + solve(int(str_stone[mid:]), blinks - 1)\n",
    "    else:\n",
    "        val = solve(stone * 2024, blinks - 1)\n",
    "    memory[(stone, blinks)] = val\n",
    "    return val\n",
    "\n",
    "print(sum(solve(stone, 25) for stone in stones))\n",
    "print(sum(solve(stone, 75) for stone in stones))"
   ],
   "execution_count":48,
   "outputs":[
    {
     "name":"stdout",
     "text":[
      "193269\n",
      "228449040027793\n"
     ],
     "output_type":"stream"
    }
   ],
   "metadata":{
    "datalore":{
     "node_id":"cdHehS6e3gpTjNJMHT6aOG",
     "type":"CODE",
     "hide_input_from_viewers":true,
     "hide_output_from_viewers":true
    }
   }
  },
  {
   "cell_type":"markdown",
   "source":[
    "# Sheet 2"
   ],
   "attachments":{},
   "metadata":{
    "datalore":{
     "node_id":"Sheet 2",
     "type":"MD",
     "hide_input_from_viewers":false,
     "hide_output_from_viewers":false,
     "sheet_delimiter":true
    }
   }
  },
  {
   "cell_type":"code",
   "source":[
    "\n",
    "# ez nem jo \n",
    "import re\n",
    "import numpy as np\n",
    "\n",
    "\n",
    "FILE_NAME = \"day_11_input11.txt\"\n",
    "store = {}\n",
    "\n",
    "def load_data(file_name):\n",
    "    file= open(file_name, \"r\")  \n",
    "    data = file.read().split()\n",
    "    data = [int(num) for num in data]\n",
    "    #print(data)\n",
    "    return data\n",
    "    \n",
    "def blinking(number, n):\n",
    "    ret = 0\n",
    "    if n == 0:\n",
    "        return 1\n",
    "    elif n in store:\n",
    "        if number in store[n]:\n",
    "            #print(number, n, \"==🪓🪓🪓🪓🪓🪓🪓🪓🪓===\", store[(number, n)])\n",
    "            return store[n][number]\n",
    "    elif number == 0:\n",
    "        ret += blinking(1, n-1)\n",
    "    elif len(str(number)) % 2 == 0:\n",
    "        number_str = str(number)\n",
    "        #numbers = [int(number_str[:len(number_str)\/\/2]), int(number_str[len(number_str)\/\/2:])]\n",
    "        #print(numbers)\n",
    "        ret +=blinking(int(number_str[:len(number_str)\/\/2]), n-1)\n",
    "        ret +=blinking(int(number_str[len(number_str)\/\/2:]), n-1)\n",
    "    else:\n",
    "        ret +=blinking(number * 2024, n-1)\n",
    "\n",
    "    store[n] = {number: ret}\n",
    "    print(store)\n",
    "    return ret\n",
    "    \n",
    "\n",
    "def process(data):\n",
    "    ret = 0\n",
    "    \n",
    "    for number in data:\n",
    "        ret += blinking(number, 15)\n",
    "        #print(\"💪💪💪\", ret)\n",
    "    return ret\n",
    "\n",
    "data = load_data(FILE_NAME)\n",
    "print(process(data))"
   ],
   "execution_count":42,
   "outputs":[
    {
     "name":"stdout",
     "text":[
      "{1: {28: 2}}\n",
      "{1: {67: 0}}\n",
      "{1: {67: 0}, 2: {2867: 2}}\n",
      "{1: {67: 0}, 2: {6032: 0}}\n",
      "{1: {67: 0}, 2: {6032: 0}, 3: {28676032: 2}}\n",
      "{1: {67: 0}, 2: {6032: 0}, 3: {28676032: 2}, 4: {14168: 2}}\n",
      "{1: {67: 0}, 2: {6032: 0}, 3: {28676032: 2}, 4: {14168: 2}, 5: {7: 2}}\n",
      "{1: {67: 0}, 2: {6032: 0}, 3: {28676032: 2}, 4: {14168: 2}, 5: {9: 0}}\n",
      "{1: {67: 0}, 2: {6032: 0}, 3: {28676032: 2}, 4: {14168: 2}, 5: {9: 0}, 6: {79: 2}}\n",
      "{1: {67: 0}, 2: {6032: 0}, 3: {28676032: 2}, 4: {14168: 2}, 5: {9: 0}, 6: {68: 0}}\n",
      "{1: {67: 0}, 2: {6032: 0}, 3: {28676032: 2}, 4: {14168: 2}, 5: {9: 0}, 6: {68: 0}, 7: {7968: 2}}\n",
      "{1: {67: 0}, 2: {6032: 0}, 3: {28676032: 2}, 4: {14168: 2}, 5: {9: 0}, 6: {68: 0}, 7: {832: 0}}\n",
      "{1: {67: 0}, 2: {6032: 0}, 3: {28676032: 2}, 4: {14168: 2}, 5: {9: 0}, 6: {68: 0}, 7: {832: 0}, 8: {79680832: 2}}\n",
      "{1: {67: 0}, 2: {6032: 0}, 3: {28676032: 2}, 4: {14168: 2}, 5: {9: 0}, 6: {68: 0}, 7: {832: 0}, 8: {79680832: 2}, 9: {39368: 2}}\n",
      "{1: {67: 0}, 2: {6032: 0}, 3: {28676032: 2}, 4: {14168: 2}, 5: {9: 0}, 6: {68: 0}, 7: {832: 0}, 8: {79680832: 2}, 9: {9536: 0}}\n",
      "{1: {67: 0}, 2: {6032: 0}, 3: {28676032: 2}, 4: {14168: 2}, 5: {9: 0}, 6: {68: 0}, 7: {832: 0}, 8: {79680832: 2}, 9: {9536: 0}, 10: {3936809536: 2}}\n",
      "{1: {67: 0}, 2: {6032: 0}, 3: {28676032: 2}, 4: {14168: 2}, 5: {9: 0}, 6: {68: 0}, 7: {832: 0}, 8: {79680832: 2}, 9: {9536: 0}, 10: {3936809536: 2}, 11: {1945064: 2}}\n",
      "{1: {67: 0}, 2: {6032: 0}, 3: {28676032: 2}, 4: {14168: 2}, 5: {9: 0}, 6: {68: 0}, 7: {832: 0}, 8: {79680832: 2}, 9: {9536: 0}, 10: {3936809536: 2}, 11: {1945064: 2}, 12: {961: 2}}\n",
      "{1: {67: 0}, 2: {6032: 0}, 3: {28676032: 2}, 4: {14168: 2}, 5: {9: 0}, 6: {68: 0}, 7: {832: 0}, 8: {79680832: 2}, 9: {9536: 0}, 10: {3936809536: 2}, 11: {1945064: 2}, 12: {400: 0}}\n",
      "{1: {67: 0}, 2: {6032: 0}, 3: {28676032: 2}, 4: {14168: 2}, 5: {9: 0}, 6: {68: 0}, 7: {832: 0}, 8: {79680832: 2}, 9: {9536: 0}, 10: {3936809536: 2}, 11: {1945064: 2}, 12: {400: 0}, 13: {961400: 2}}\n",
      "{1: {67: 0}, 2: {6032: 0}, 3: {28676032: 2}, 4: {14168: 2}, 5: {9: 0}, 6: {68: 0}, 7: {832: 0}, 8: {79680832: 2}, 9: {9536: 0}, 10: {3936809536: 2}, 11: {1945064: 2}, 12: {400: 0}, 13: {961400: 2}, 14: {475: 2}}\n",
      "{1: {67: 0}, 2: {6032: 0}, 3: {28676032: 2}, 4: {14168: 2}, 5: {9: 0}, 6: {68: 0}, 7: {832: 0}, 8: {79680832: 2}, 9: {9536: 0}, 10: {3936809536: 2}, 11: {1945064: 2}, 12: {400: 0}, 13: {961400: 2}, 14: {449: 0}}\n",
      "{1: {67: 0}, 2: {6032: 0}, 3: {28676032: 2}, 4: {14168: 2}, 5: {9: 0}, 6: {68: 0}, 7: {832: 0}, 8: {79680832: 2}, 9: {9536: 0}, 10: {3936809536: 2}, 11: {1945064: 2}, 12: {400: 0}, 13: {961400: 2}, 14: {449: 0}, 15: {475449: 2}}\n",
      "{1: {67: 0}, 2: {6032: 0}, 3: {28676032: 2}, 4: {14168: 2}, 5: {9: 0}, 6: {68: 0}, 7: {832: 0}, 8: {79680832: 2}, 9: {9536: 0}, 10: {3936809536: 2}, 11: {1945064: 2}, 12: {400: 0}, 13: {961400: 2}, 14: {449: 0}, 15: {2599064: 0}}\n",
      "{1: {67: 0}, 2: {6032: 0}, 3: {28676032: 2}, 4: {14168: 2}, 5: {9: 0}, 6: {68: 0}, 7: {832: 0}, 8: {79680832: 2}, 9: {9536: 0}, 10: {3936809536: 2}, 11: {1945064: 2}, 12: {400: 0}, 13: {961400: 2}, 14: {449: 0}, 15: {213: 0}}\n",
      "{1: {67: 0}, 2: {6032: 0}, 3: {28676032: 2}, 4: {14168: 2}, 5: {9: 0}, 6: {68: 0}, 7: {832: 0}, 8: {79680832: 2}, 9: {9536: 0}, 10: {3936809536: 2}, 11: {1945064: 2}, 12: {400: 0}, 13: {961400: 2}, 14: {449: 0}, 15: {0: 0}}\n",
      "{1: {67: 0}, 2: {6032: 0}, 3: {28676032: 2}, 4: {14168: 2}, 5: {9: 0}, 6: {68: 0}, 7: {832: 0}, 8: {79680832: 2}, 9: {9536: 0}, 10: {3936809536: 2}, 11: {1945064: 2}, 12: {400: 0}, 13: {961400: 2}, 14: {449: 0}, 15: {2: 0}}\n",
      "{1: {67: 0}, 2: {6032: 0}, 3: {28676032: 2}, 4: {14168: 2}, 5: {9: 0}, 6: {68: 0}, 7: {832: 0}, 8: {79680832: 2}, 9: {9536: 0}, 10: {3936809536: 2}, 11: {1945064: 2}, 12: {400: 0}, 13: {961400: 2}, 14: {449: 0}, 15: {65: 0}}\n",
      "{1: {67: 0}, 2: {6032: 0}, 3: {28676032: 2}, 4: {14168: 2}, 5: {9: 0}, 6: {68: 0}, 7: {832: 0}, 8: {79680832: 2}, 9: {9536: 0}, 10: {3936809536: 2}, 11: {1945064: 2}, 12: {400: 0}, 13: {961400: 2}, 14: {449: 0}, 15: {5755: 0}}\n",
      "{1: {67: 0}, 2: {6032: 0}, 3: {28676032: 2}, 4: {14168: 2}, 5: {9: 0}, 6: {68: 0}, 7: {832: 0}, 8: {79680832: 2}, 9: {9536: 0}, 10: {3936809536: 2}, 11: {1945064: 2}, 12: {400: 0}, 13: {961400: 2}, 14: {449: 0}, 15: {51149: 0}}\n",
      "2\n"
     ],
     "output_type":"stream"
    }
   ],
   "metadata":{
    "datalore":{
     "node_id":"VLXgqWykRFufptBUuaCbph",
     "type":"CODE",
     "hide_input_from_viewers":true,
     "hide_output_from_viewers":true
    }
   }
  },
  {
   "cell_type":"code",
   "source":[
    "import re\n",
    "import numpy as np\n",
    "\n",
    "FILE_NAME = \"day_11_input11.txt\"\n",
    "store = {}\n",
    "\n",
    "def load_data(file_name):\n",
    "    file= open(file_name, \"r\")  \n",
    "    data = file.read().split()\n",
    "    data = [int(num) for num in data]\n",
    "    #print(data)\n",
    "    return data\n",
    "    \n",
    "def blinking(number, n):\n",
    "    ret = 0\n",
    "    if n == 0:\n",
    "        return 1\n",
    "    elif (number, n) in store:\n",
    "        #print(number, n, \"==🪓🪓🪓🪓🪓🪓🪓🪓🪓===\", store[(number, n)])\n",
    "        return store[(number, n)]\n",
    "    elif number == 0:\n",
    "        ret += blinking(1, n-1)\n",
    "    elif len(str(number)) % 2 == 0:\n",
    "        number_str = str(number)\n",
    "        #numbers = [int(number_str[:len(number_str)\/\/2]), int(number_str[len(number_str)\/\/2:])]\n",
    "        #print(numbers)\n",
    "        ret +=blinking(int(number_str[:len(number_str)\/\/2]), n-1)\n",
    "        ret +=blinking(int(number_str[len(number_str)\/\/2:]), n-1)\n",
    "    else:\n",
    "        ret +=blinking(number * 2024, n-1)\n",
    "    store[(number, n)] = ret\n",
    "    return ret\n",
    "    \n",
    "\n",
    "def process(data):\n",
    "    ret = 0\n",
    "    \n",
    "    for number in data:\n",
    "        ret += blinking(number, 75)\n",
    "        #print(\"💪💪💪\", ret)\n",
    "    return ret\n",
    "\n",
    "data = load_data(FILE_NAME)\n",
    "print(process(data))"
   ],
   "execution_count":30,
   "outputs":[
    {
     "name":"stdout",
     "text":[
      "228449040027793\n"
     ],
     "output_type":"stream"
    }
   ],
   "metadata":{
    "datalore":{
     "node_id":"J7xB0aOY8w5ksgbICJGU43",
     "type":"CODE",
     "hide_input_from_viewers":true,
     "hide_output_from_viewers":true
    }
   }
  },
  {
   "cell_type":"code",
   "source":[
    "stones = list(map(int, open('day_11_input11.txt').readline().strip().split()))\n",
    "memory = {}\n",
    "\n",
    "def solve(stone, blinks):\n",
    "    \n",
    "    if blinks == 0:\n",
    "        #print(\"💪💪💪💪💪💪\")\n",
    "        return 1\n",
    "    elif (stone, blinks) in memory:\n",
    "        #print(\"🎶🎶🎶🎶🎶\")\n",
    "        return memory[(stone, blinks)]\n",
    "    elif stone == 0:\n",
    "        val = solve(1, blinks - 1)\n",
    "        #print(\"🎥🎥🎥🎥🎥\")\n",
    "    elif len(str_stone := str(stone)) % 2 == 0:\n",
    "        mid = len(str_stone) \/\/ 2\n",
    "        val = solve(int(str_stone[:mid]), blinks - 1) + solve(int(str_stone[mid:]), blinks - 1)\n",
    "        #print(\"😎😎😎😎😎😎\")\n",
    "    else:\n",
    "        #print(\"🤦‍♀️🤦‍♀️🤦‍♀️🤦‍♀️🤦‍♀️\")\n",
    "        val = solve(stone * 2024, blinks - 1)\n",
    "    memory[(stone, blinks)] = val\n",
    "    #print(\"💲😁\", memory)\n",
    "    return val\n",
    "\n",
    "#for stone in stones:\n",
    "    #print(solve(stone, 3))\n",
    "    #print(\"✔✔✔\")\n",
    "print(sum(solve(stone, 75) for stone in stones))\n",
    "#print(sum(solve(stone, 75) for stone in stones))"
   ],
   "execution_count":27,
   "outputs":[
    {
     "name":"stdout",
     "text":[
      "228449040027793\n"
     ],
     "output_type":"stream"
    }
   ],
   "metadata":{
    "datalore":{
     "node_id":"FwSR8ZbB6jwfZeQ5QdoB5B",
     "type":"CODE",
     "hide_input_from_viewers":true,
     "hide_output_from_viewers":true
    }
   }
  }
 ],
 "metadata":{
  "kernelspec":{
   "display_name":"Python",
   "language":"python",
   "name":"python"
  },
  "datalore":{
   "computation_mode":"JUPYTER",
   "package_manager":"pip",
   "base_environment":"default",
   "packages":[],
   "report_row_ids":[],
   "version":3
  }
 },
 "nbformat":4,
 "nbformat_minor":4
}
{
 "cells":[
  {
   "cell_type":"markdown",
   "source":[
    "# Part One **OK**"
   ],
   "attachments":{},
   "metadata":{
    "datalore":{
     "node_id":"DWRNlbprLFRptfcuQ1tkhg",
     "type":"MD",
     "hide_input_from_viewers":true,
     "hide_output_from_viewers":true
    }
   }
  },
  {
   "cell_type":"code",
   "source":[
    "FILE_NAME = \"day_12_input11.txt\"\n",
    "\n",
    "finded_regions = {}\n",
    "finded_region = {}\n",
    "def load_data(file_name):\n",
    "    file= open(file_name, \"r\")  \n",
    "    data = file.read().split()\n",
    "    data = [[x for x in y] for y in data]\n",
    "    return data\n",
    "    \n",
    "def find_area(y, x, data, c=\"FFF\"):\n",
    "    fence = 0\n",
    "    regions = 0\n",
    "    if (y, x) not in finded_region and (c == \"FFF\" or c == data[y][x]):\n",
    "        finded_region[(y, x)] = data[y][x]\n",
    "        regions += 1\n",
    "        if len([key for key in [(y, x+1),(y+1, x),(y, x-1),(y-1, x)] if key in finded_region]) == 0:\n",
    "            fence = 4\n",
    "        elif len([key for key in [(y, x+1),(y+1, x),(y, x-1),(y-1, x)] if key in finded_region]) == 1:\n",
    "            fence +=2\n",
    "        elif  len([key for key in [(y, x+1),(y+1, x),(y, x-1),(y-1, x)] if key in finded_region]) == 2:\n",
    "            fence +=0\n",
    "        elif  len([key for key in [(y, x+1),(y+1, x),(y, x-1),(y-1, x)] if key in finded_region]) == 3:\n",
    "            fence -=2\n",
    "        elif len([key for key in [(y, x+1),(y+1, x),(y, x-1),(y-1, x)] if key in finded_region]) == 4:\n",
    "            fence -=4\n",
    "        \n",
    "        if x+1 < len(data[y]) and (y, x+1) not in finded_region:\n",
    "            ret = find_area(y, x+1, data, data[y][x])\n",
    "            fence += ret[0]\n",
    "            regions += ret[1]\n",
    "        if y+1 < len(data) and (y+1, x) not in finded_region:\n",
    "            ret = find_area(y+1, x, data, data[y][x])\n",
    "            fence += ret[0]\n",
    "            regions += ret[1]\n",
    "        if x-1 >= 0 and (y, x-1) not in finded_region:\n",
    "            ret = find_area(y, x-1, data, data[y][x])\n",
    "            fence += ret[0]\n",
    "            regions += ret[1]\n",
    "        if y-1 >= 0 and (y-1, x) not in finded_region:\n",
    "            ret = find_area(y-1, x, data, data[y][x])\n",
    "            fence += ret[0]\n",
    "            regions += ret[1]\n",
    "    return fence, regions\n",
    "\n",
    "def process(data):\n",
    "    ret = 0\n",
    "    for y in range(len(data)):\n",
    "        for x in range(len(data[y])):\n",
    "            if (y, x) not in finded_regions:\n",
    "                finded_region.clear()\n",
    "                field = find_area(y, x, data)\n",
    "                finded_regions.update(finded_region)\n",
    "                ret += field[0] * field[1]\n",
    "    return ret\n",
    "\n",
    "data = load_data(FILE_NAME)\n",
    "print(process(data)) "
   ],
   "execution_count":1,
   "outputs":[
    {
     "name":"stdout",
     "text":[
      "1319878\n"
     ],
     "output_type":"stream"
    }
   ],
   "metadata":{
    "datalore":{
     "node_id":"k5bX9djfX9NUFa2F0ESEUr",
     "type":"CODE",
     "hide_input_from_viewers":true,
     "hide_output_from_viewers":true
    }
   }
  },
  {
   "cell_type":"markdown",
   "source":[
    "# Part Two **??**"
   ],
   "attachments":{},
   "metadata":{
    "datalore":{
     "node_id":"AI8bIY5P6ItvnUsMiTMbjA",
     "type":"MD",
     "hide_input_from_viewers":true,
     "hide_output_from_viewers":true
    }
   }
  },
  {
   "cell_type":"code",
   "source":[],
   "execution_count":0,
   "outputs":[],
   "metadata":{
    "datalore":{
     "node_id":"Xr6ATQUOiEMkkrVpbKowOw",
     "type":"CODE",
     "hide_input_from_viewers":true,
     "hide_output_from_viewers":true
    }
   }
  }
 ],
 "metadata":{
  "kernelspec":{
   "display_name":"Python",
   "language":"python",
   "name":"python"
  },
  "datalore":{
   "computation_mode":"JUPYTER",
   "package_manager":"pip",
   "base_environment":"default",
   "packages":[],
   "report_row_ids":[],
   "version":3
  }
 },
 "nbformat":4,
 "nbformat_minor":4
}